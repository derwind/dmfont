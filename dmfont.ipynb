{
  "nbformat": 4,
  "nbformat_minor": 0,
  "metadata": {
    "colab": {
      "name": "dmfont.ipynb",
      "provenance": [],
      "collapsed_sections": []
    },
    "kernelspec": {
      "name": "python3",
      "display_name": "Python 3"
    },
    "accelerator": "GPU"
  },
  "cells": [
    {
      "cell_type": "markdown",
      "metadata": {
        "id": "a2e88cef-5cfe-48d9-9f08-93ffef459f76"
      },
      "source": [
        "# Install"
      ]
    },
    {
      "cell_type": "code",
      "metadata": {
        "id": "4b0a4dcd-e194-4457-992e-9851ed0d1854"
      },
      "source": [
        "!git clone https://github.com/derwind/dmfont.git"
      ],
      "execution_count": null,
      "outputs": []
    },
    {
      "cell_type": "code",
      "metadata": {
        "id": "32cc538f-8bf5-4320-a656-f41abcb8ffd8"
      },
      "source": [
        "import os\n",
        "os.chdir(\"dmfont\")"
      ],
      "execution_count": null,
      "outputs": []
    },
    {
      "cell_type": "code",
      "metadata": {
        "id": "82a9df41-32e9-47ad-abff-49fc3476d343"
      },
      "source": [
        "!pip install -r requirements.txt"
      ],
      "execution_count": null,
      "outputs": []
    },
    {
      "cell_type": "markdown",
      "metadata": {
        "id": "8288bc1b-9c5a-4ab8-ba88-5b82c589b549"
      },
      "source": [
        "# Sample"
      ]
    },
    {
      "cell_type": "code",
      "metadata": {
        "id": "TVvlIp9x93iD"
      },
      "source": [
        "from models import MACore\n",
        "from trainer import has_bn\n",
        "import datasets.kor_decompose as kor\n",
        "from sconf import Config"
      ],
      "execution_count": null,
      "outputs": []
    },
    {
      "cell_type": "code",
      "metadata": {
        "id": "6IhhcBEf94D_"
      },
      "source": [
        "cfg = Config(\"cfgs/kor.yaml\", colorize_modified_item=True)\n",
        "g_kwargs = cfg.get('g_args', {})\n",
        "gen = MACore(\n",
        "    1, 32, 1, **g_kwargs, n_comps=kor.N_COMPONENTS, n_comp_types=3,\n",
        "    language=\"kor\"\n",
        ")\n",
        "\n",
        "print(has_bn(gen))"
      ],
      "execution_count": null,
      "outputs": []
    }
  ]
}